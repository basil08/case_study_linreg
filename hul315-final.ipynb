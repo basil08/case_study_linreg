{
 "cells": [
  {
   "cell_type": "code",
   "execution_count": 371,
   "metadata": {},
   "outputs": [],
   "source": [
    "import pandas as pd\n",
    "import numpy as np\n",
    "import statsmodels.api as sm\n",
    "\n",
    "import matplotlib.pyplot as plt\n",
    "import plotly.graph_objects as go\n"
   ]
  },
  {
   "cell_type": "code",
   "execution_count": 372,
   "metadata": {},
   "outputs": [
    {
     "name": "stdout",
     "output_type": "stream",
     "text": [
      "(266, 68)\n",
      "(266, 5)\n",
      "(114, 5)\n",
      "(114, 5)\n"
     ]
    }
   ],
   "source": [
    "gini = pd.read_csv('./data/gini.csv')\n",
    "\n",
    "print(gini.shape)\n",
    "\n",
    "gini18 = gini[[\"Country Name\", \"Country Code\", \"2017\", \"2018\", \"2019\"]]\n",
    "print(gini18.shape)\n",
    "\n",
    "# filter out rows with missing all 2017, 2018 and 2019 values\n",
    "gini18 = gini18.dropna(subset=[\"2017\", \"2018\", \"2019\"], how='all')\n",
    "print(gini18.shape)\n",
    "\n",
    "# if 2018 is missing, use 2017 and 2019 to fill it\n",
    "# gini18[\"2018\"] = gini18[\"2018\"].fillna((gini18[\"2017\"] + gini18[\"2019\"]) / 2)\n",
    "# if gini18[\"2018\"].isna():\n",
    "#     gini18[\"2018\"] = gini18[\"2017\"] if gini18[\"2018\"].isna() else gini18[\"2018\"]\n",
    "    \n",
    "# if 2018 is missing, use 2017 value to fill it, if 2017 is also missing, use 2019 value\n",
    "gini18[\"2018\"] = gini18[\"2018\"].fillna(gini18[\"2017\"])\n",
    "gini18[\"2018\"] = gini18[\"2018\"].fillna(gini18[\"2019\"])\n",
    "\n",
    "\n",
    "print(gini18.shape)"
   ]
  },
  {
   "cell_type": "code",
   "execution_count": 373,
   "metadata": {},
   "outputs": [
    {
     "name": "stdout",
     "output_type": "stream",
     "text": [
      "(266, 5)\n",
      "(114, 5)\n"
     ]
    }
   ],
   "source": [
    "\n",
    "incomet = pd.read_csv('./data/income_top_10.csv')\n",
    "incomet = incomet[[\"Country Name\", \"Country Code\", \"2017\", \"2018\", \"2019\"]]\n",
    "\n",
    "print(incomet.shape)\n",
    "incomet = incomet.dropna(subset=[\"2017\", \"2018\", \"2019\"], how='all')\n",
    "\n",
    "# incomet[\"2018\"] = incomet[\"2018\"].fillna((incomet[\"2017\"] + incomet[\"2019\"]) / 2)\n",
    "incomet[\"2018\"] = incomet[\"2018\"].fillna(incomet[\"2017\"])\n",
    "incomet[\"2018\"] = incomet[\"2018\"].fillna(incomet[\"2019\"])\n",
    "\n",
    "print(incomet.shape)"
   ]
  },
  {
   "cell_type": "code",
   "execution_count": 374,
   "metadata": {},
   "outputs": [
    {
     "name": "stdout",
     "output_type": "stream",
     "text": [
      "(266, 5)\n",
      "(114, 5)\n"
     ]
    }
   ],
   "source": [
    "incomeb = pd.read_csv('./data/income_bot_10.csv')\n",
    "incomeb = incomeb[[\"Country Name\", \"Country Code\", \"2017\", \"2018\", \"2019\"]]\n",
    "print(incomeb.shape)\n",
    "incomeb = incomeb.dropna(subset=[\"2017\", \"2018\", \"2019\"], how='all')\n",
    "incomeb[\"2018\"] = incomeb[\"2018\"].fillna(incomeb[\"2017\"])\n",
    "incomeb[\"2018\"] = incomeb[\"2018\"].fillna(incomeb[\"2019\"])\n",
    "print(incomeb.shape)"
   ]
  },
  {
   "cell_type": "code",
   "execution_count": 375,
   "metadata": {},
   "outputs": [],
   "source": [
    "# Reading the regressor dataframes\n",
    "gdp = pd.read_csv('./data/gdp_per_capita.csv')\n",
    "lit = pd.read_csv('./data/literacy_rate.csv')\n",
    "lif = pd.read_csv('./data/life_expectancy.csv')\n",
    "urb = pd.read_csv('./data/urban_population_percentage.csv')\n",
    "pop = pd.read_csv('./data/population_density.csv')"
   ]
  },
  {
   "cell_type": "code",
   "execution_count": 376,
   "metadata": {},
   "outputs": [],
   "source": [
    "def clean_up(target, frames):\n",
    "    \"\"\"\n",
    "    target: the dataframe to be used for cleaning\n",
    "    frames: the list of dataframes to be cleaned\n",
    "    \n",
    "    Returns X, y where X is the feature matrix combining all the dataframes in frames and y is the target dataframe\n",
    "    \"\"\"\n",
    "    countries = target[\"Country Code\"]\n",
    "    print(countries.shape)\n",
    "    X = pd.DataFrame()\n",
    "    for name, frame in frames.items():\n",
    "        # for each frame, filter out the rows that are not in the countries list\n",
    "        # print(frame.columns)\n",
    "        frame = frame[[\"Country Code\", \"2017\", \"2018\", \"2019\"]]\n",
    "        frame = frame[frame[\"Country Code\"].isin(countries)]\n",
    "        # now, check if atleast one of 2017, 2018, 2019 is missing\n",
    "        frame = frame.dropna(subset=[\"2017\", \"2018\", \"2019\"], how='all')\n",
    "        # if 2018 is missing, use 2017 and 2019 to fill it\n",
    "        # frame[name] = frame[\"2018\"].fillna((frame[\"2017\"] + frame[\"2019\"]) / 2)\n",
    "        frame[name] = frame[\"2018\"].fillna(frame[\"2017\"])\n",
    "        frame[name] = frame[\"2018\"].fillna(frame[\"2019\"])\n",
    "        \n",
    "        # drop 2018, 2019, 2017 columns from frame\n",
    "        frame = frame.drop(columns=[\"2017\", \"2018\", \"2019\"])\n",
    "        # print(frame.shape)\n",
    "        # concat the frame with X\n",
    "        # if len(X) == 0:\n",
    "        #     X = frame\n",
    "        # else:\n",
    "        #     X = pd.merge(X, frame, on=\"Country Code\", how=\"outer\")\n",
    "        X = pd.concat([X, frame], axis=1)\n",
    "    \n",
    "    # filter out all rows from X that has any missing value\n",
    "    \n",
    "    X = pd.concat([X, target[\"2018\"]], axis=1)\n",
    "    \n",
    "    X = X.dropna()\n",
    "    # only keep one Country Code col and drop the other two in X\n",
    "    X = X.drop(columns=[\"Country Code\"])\n",
    "    \n",
    "    \n",
    "    # extract last column from X and drop that col from X as well\n",
    "    y = X[\"2018\"]\n",
    "    X = X.drop(columns=[\"2018\"])\n",
    "    # y = target[\"2018\"]\n",
    "    return X, y\n"
   ]
  },
  {
   "cell_type": "markdown",
   "metadata": {},
   "source": [
    "## Gini index"
   ]
  },
  {
   "cell_type": "code",
   "execution_count": 377,
   "metadata": {},
   "outputs": [
    {
     "name": "stdout",
     "output_type": "stream",
     "text": [
      "(114,)\n",
      "(113, 4) (113,)\n",
      "                            OLS Regression Results                            \n",
      "==============================================================================\n",
      "Dep. Variable:                   2018   R-squared:                       0.180\n",
      "Model:                            OLS   Adj. R-squared:                  0.150\n",
      "Method:                 Least Squares   F-statistic:                     5.943\n",
      "Date:                Wed, 06 Nov 2024   Prob (F-statistic):           0.000232\n",
      "Time:                        16:56:04   Log-Likelihood:                -360.82\n",
      "No. Observations:                 113   AIC:                             731.6\n",
      "Df Residuals:                     108   BIC:                             745.3\n",
      "Df Model:                           4                                         \n",
      "Covariance Type:            nonrobust                                         \n",
      "==============================================================================\n",
      "                 coef    std err          t      P>|t|      [0.025      0.975]\n",
      "------------------------------------------------------------------------------\n",
      "const         46.9647      7.059      6.653      0.000      32.972      60.958\n",
      "gdp        -9.868e-05   3.46e-05     -2.851      0.005      -0.000   -3.01e-05\n",
      "lif           -0.1971      0.112     -1.755      0.082      -0.420       0.025\n",
      "urb            0.0892      0.038      2.327      0.022       0.013       0.165\n",
      "pop           -0.0026      0.003     -1.021      0.310      -0.008       0.002\n",
      "==============================================================================\n",
      "Omnibus:                        1.341   Durbin-Watson:                   1.744\n",
      "Prob(Omnibus):                  0.511   Jarque-Bera (JB):                1.413\n",
      "Skew:                           0.243   Prob(JB):                        0.493\n",
      "Kurtosis:                       2.747   Cond. No.                     3.58e+05\n",
      "==============================================================================\n",
      "\n",
      "Notes:\n",
      "[1] Standard Errors assume that the covariance matrix of the errors is correctly specified.\n",
      "[2] The condition number is large, 3.58e+05. This might indicate that there are\n",
      "strong multicollinearity or other numerical problems.\n"
     ]
    }
   ],
   "source": [
    "frames = {\n",
    "    \"gdp\": gdp,\n",
    "    # \"lit\": lit,\n",
    "    \"lif\": lif,\n",
    "    \"urb\": urb,\n",
    "    \"pop\": pop\n",
    "}\n",
    "X, y = clean_up(gini18, frames)\n",
    "print(X.shape, y.shape)\n",
    "\n",
    "est2 = sm.add_constant(X)\n",
    "est = sm.OLS(y, est2).fit()\n",
    "print(est.summary())"
   ]
  },
  {
   "cell_type": "code",
   "execution_count": 378,
   "metadata": {},
   "outputs": [
    {
     "data": {
      "image/png": "[encoded data removed]",
      "text/plain": [
       "<Figure size 640x480 with 1 Axes>"
      ]
     },
     "metadata": {},
     "output_type": "display_data"
    }
   ],
   "source": [
    "# Heteroskedasticity test\n",
    "\n",
    "# Plot the residual error terms against the y_pred\n",
    "y_pred = est.predict(est2)\n",
    "\n",
    "residuals = y - y_pred\n",
    "plt.scatter(y_pred, residuals)\n",
    "plt.xlabel(\"Predicted values\")\n",
    "plt.ylabel(\"Residuals\")\n",
    "plt.title(\"Residuals vs Fitted\")\n",
    "plt.show()"
   ]
  },
  {
   "cell_type": "code",
   "execution_count": 379,
   "metadata": {},
   "outputs": [
    {
     "name": "stdout",
     "output_type": "stream",
     "text": [
      "{'F statistic': np.float64(0.7606007977193291), 'p-value': np.float64(0.8350330997409645)}\n"
     ]
    }
   ],
   "source": [
    "# use the goldfeld-quandt test to check for heteroskedasticity\n",
    "from statsmodels.stats.diagnostic import het_goldfeldquandt\n",
    "name = ['F statistic', 'p-value']\n",
    "\n",
    "test = het_goldfeldquandt(y, est2)\n",
    "print(dict(zip(name, test)))\n"
   ]
  },
  {
   "cell_type": "code",
   "execution_count": 380,
   "metadata": {},
   "outputs": [
    {
     "name": "stdout",
     "output_type": "stream",
     "text": [
      "{'Lm value': np.float64(12.664142166962394), 'Lm p-value': np.float64(0.5531230623858561), 'F value': np.float64(0.8835225719229092), 'p-value': np.float64(0.5785608525491697)}\n"
     ]
    }
   ],
   "source": [
    "# use the generalised white test to check for heteroskedasticity\n",
    "from statsmodels.stats.diagnostic import het_white\n",
    "# name = ['F statistic', 'p-value']\n",
    "name = [\"Lm value\", \"Lm p-value\", \"F value\", \"p-value\"]\n",
    "\n",
    "test = het_white(est.resid, est2)\n",
    "print(dict(zip(name, test)))\n"
   ]
  },
  {
   "cell_type": "code",
   "execution_count": 381,
   "metadata": {},
   "outputs": [
    {
     "data": {
      "text/html": [
       "<div>\n",
       "<style scoped>\n",
       "    .dataframe tbody tr th:only-of-type {\n",
       "        vertical-align: middle;\n",
       "    }\n",
       "\n",
       "    .dataframe tbody tr th {\n",
       "        vertical-align: top;\n",
       "    }\n",
       "\n",
       "    .dataframe thead th {\n",
       "        text-align: right;\n",
       "    }\n",
       "</style>\n",
       "<table border=\"1\" class=\"dataframe\">\n",
       "  <thead>\n",
       "    <tr style=\"text-align: right;\">\n",
       "      <th></th>\n",
       "      <th>VIF Factor</th>\n",
       "    </tr>\n",
       "  </thead>\n",
       "  <tbody>\n",
       "    <tr>\n",
       "      <th>0</th>\n",
       "      <td>2.258271</td>\n",
       "    </tr>\n",
       "    <tr>\n",
       "      <th>1</th>\n",
       "      <td>16.691167</td>\n",
       "    </tr>\n",
       "    <tr>\n",
       "      <th>2</th>\n",
       "      <td>18.642489</td>\n",
       "    </tr>\n",
       "    <tr>\n",
       "      <th>3</th>\n",
       "      <td>1.481158</td>\n",
       "    </tr>\n",
       "  </tbody>\n",
       "</table>\n",
       "</div>"
      ],
      "text/plain": [
       "   VIF Factor\n",
       "0    2.258271\n",
       "1   16.691167\n",
       "2   18.642489\n",
       "3    1.481158"
      ]
     },
     "execution_count": 381,
     "metadata": {},
     "output_type": "execute_result"
    }
   ],
   "source": [
    "# Variance Inflation Factor\n",
    "\n",
    "# Calculate the VIF for each estimated coefficient using statsmodels package\n",
    "from statsmodels.stats.outliers_influence import variance_inflation_factor\n",
    "\n",
    "vif = pd.DataFrame()\n",
    "vif[\"VIF Factor\"] = [variance_inflation_factor(X.values, i) for i in range(X.shape[1])]\n",
    "vif"
   ]
  },
  {
   "cell_type": "code",
   "execution_count": 382,
   "metadata": {},
   "outputs": [
    {
     "name": "stdout",
     "output_type": "stream",
     "text": [
      "(114,)\n",
      "(113, 3) (113,)\n",
      "                            OLS Regression Results                            \n",
      "==============================================================================\n",
      "Dep. Variable:                   2018   R-squared:                       0.139\n",
      "Model:                            OLS   Adj. R-squared:                  0.116\n",
      "Method:                 Least Squares   F-statistic:                     5.880\n",
      "Date:                Wed, 06 Nov 2024   Prob (F-statistic):           0.000928\n",
      "Time:                        16:56:04   Log-Likelihood:                -363.58\n",
      "No. Observations:                 113   AIC:                             735.2\n",
      "Df Residuals:                     109   BIC:                             746.1\n",
      "Df Model:                           3                                         \n",
      "Covariance Type:            nonrobust                                         \n",
      "==============================================================================\n",
      "                 coef    std err          t      P>|t|      [0.025      0.975]\n",
      "------------------------------------------------------------------------------\n",
      "const         43.4005      7.029      6.174      0.000      29.468      57.333\n",
      "gdp        -7.768e-05   3.41e-05     -2.279      0.025      -0.000   -1.01e-05\n",
      "lif           -0.0762      0.102     -0.751      0.454      -0.278       0.125\n",
      "pop           -0.0036      0.003     -1.366      0.175      -0.009       0.002\n",
      "==============================================================================\n",
      "Omnibus:                        2.311   Durbin-Watson:                   1.785\n",
      "Prob(Omnibus):                  0.315   Jarque-Bera (JB):                2.203\n",
      "Skew:                           0.338   Prob(JB):                        0.332\n",
      "Kurtosis:                       2.901   Cond. No.                     3.50e+05\n",
      "==============================================================================\n",
      "\n",
      "Notes:\n",
      "[1] Standard Errors assume that the covariance matrix of the errors is correctly specified.\n",
      "[2] The condition number is large, 3.5e+05. This might indicate that there are\n",
      "strong multicollinearity or other numerical problems.\n"
     ]
    }
   ],
   "source": [
    "frames = {\n",
    "    \"gdp\": gdp,\n",
    "    # \"lit\": lit,\n",
    "    \"lif\": lif,\n",
    "    # \"urb\": urb,\n",
    "    \"pop\": pop\n",
    "}\n",
    "X, y = clean_up(gini18, frames)\n",
    "print(X.shape, y.shape)\n",
    "\n",
    "est2 = sm.add_constant(X)\n",
    "est = sm.OLS(y, est2).fit()\n",
    "print(est.summary())"
   ]
  },
  {
   "cell_type": "code",
   "execution_count": 383,
   "metadata": {},
   "outputs": [
    {
     "name": "stdout",
     "output_type": "stream",
     "text": [
      "Index(['gdp', 'lif', 'pop', 'log_gdp', 'gdp_2'], dtype='object')\n",
      "                            OLS Regression Results                            \n",
      "==============================================================================\n",
      "Dep. Variable:                   2018   R-squared:                       0.166\n",
      "Model:                            OLS   Adj. R-squared:                  0.127\n",
      "Method:                 Least Squares   F-statistic:                     4.268\n",
      "Date:                Wed, 06 Nov 2024   Prob (F-statistic):            0.00141\n",
      "Time:                        16:56:04   Log-Likelihood:                -361.78\n",
      "No. Observations:                 113   AIC:                             735.6\n",
      "Df Residuals:                     107   BIC:                             751.9\n",
      "Df Model:                           5                                         \n",
      "Covariance Type:            nonrobust                                         \n",
      "==============================================================================\n",
      "                 coef    std err          t      P>|t|      [0.025      0.975]\n",
      "------------------------------------------------------------------------------\n",
      "const         34.1662      8.644      3.952      0.000      17.030      51.303\n",
      "gdp           -0.0003      0.000     -2.258      0.026      -0.001   -3.79e-05\n",
      "lif           -0.0697      0.170     -0.410      0.683      -0.407       0.268\n",
      "pop           -0.0034      0.003     -1.298      0.197      -0.008       0.002\n",
      "log_gdp        1.2380      1.490      0.831      0.408      -1.716       4.192\n",
      "gdp_2       2.148e-09   1.16e-09      1.854      0.067   -1.49e-10    4.44e-09\n",
      "==============================================================================\n",
      "Omnibus:                        1.609   Durbin-Watson:                   1.858\n",
      "Prob(Omnibus):                  0.447   Jarque-Bera (JB):                1.424\n",
      "Skew:                           0.275   Prob(JB):                        0.491\n",
      "Kurtosis:                       2.979   Cond. No.                     3.12e+10\n",
      "==============================================================================\n",
      "\n",
      "Notes:\n",
      "[1] Standard Errors assume that the covariance matrix of the errors is correctly specified.\n",
      "[2] The condition number is large, 3.12e+10. This might indicate that there are\n",
      "strong multicollinearity or other numerical problems.\n"
     ]
    }
   ],
   "source": [
    "# Transform gdp to log gdp\n",
    "# X[\"gdp\"] = np.log(X[\"gdp\"]) \n",
    "\n",
    "X[\"log_gdp\"] = np.log(X[\"gdp\"])\n",
    "X[\"gdp_2\"] = X[\"gdp\"] ** 2\n",
    "\n",
    "# gdp + gdp_2 = 0.218\n",
    "# gdp = 0.18\n",
    "# gdp + log gdp = 0.195\n",
    "# gdp + log gdp + gdp_2 = 0.219\n",
    "# gdp + gdp_2 + gdp_3 = 0.071\n",
    "\n",
    "print(X.columns)\n",
    "est2 = sm.add_constant(X)\n",
    "est = sm.OLS(y, est2).fit()\n",
    "print(est.summary())\n",
    "    "
   ]
  },
  {
   "cell_type": "markdown",
   "metadata": {},
   "source": [
    "Addition of new variables makes the model explain better (increments of R2 consistent with increase in number of variables)."
   ]
  },
  {
   "cell_type": "markdown",
   "metadata": {},
   "source": [
    "## Income top 10% "
   ]
  },
  {
   "cell_type": "code",
   "execution_count": 384,
   "metadata": {},
   "outputs": [
    {
     "name": "stdout",
     "output_type": "stream",
     "text": [
      "(114,)\n",
      "(113, 4) (113,)\n",
      "                            OLS Regression Results                            \n",
      "==============================================================================\n",
      "Dep. Variable:                   2018   R-squared:                       0.190\n",
      "Model:                            OLS   Adj. R-squared:                  0.160\n",
      "Method:                 Least Squares   F-statistic:                     6.333\n",
      "Date:                Wed, 06 Nov 2024   Prob (F-statistic):           0.000129\n",
      "Time:                        16:56:04   Log-Likelihood:                -327.16\n",
      "No. Observations:                 113   AIC:                             664.3\n",
      "Df Residuals:                     108   BIC:                             678.0\n",
      "Df Model:                           4                                         \n",
      "Covariance Type:            nonrobust                                         \n",
      "==============================================================================\n",
      "                 coef    std err          t      P>|t|      [0.025      0.975]\n",
      "------------------------------------------------------------------------------\n",
      "const         38.3353      5.241      7.315      0.000      27.947      48.724\n",
      "gdp        -6.842e-05   2.57e-05     -2.663      0.009      -0.000   -1.75e-05\n",
      "lif           -0.1609      0.083     -1.931      0.056      -0.326       0.004\n",
      "urb            0.0474      0.028      1.666      0.099      -0.009       0.104\n",
      "pop           -0.0016      0.002     -0.837      0.405      -0.005       0.002\n",
      "==============================================================================\n",
      "Omnibus:                        5.554   Durbin-Watson:                   1.767\n",
      "Prob(Omnibus):                  0.062   Jarque-Bera (JB):                5.514\n",
      "Skew:                           0.540   Prob(JB):                       0.0635\n",
      "Kurtosis:                       2.942   Cond. No.                     3.58e+05\n",
      "==============================================================================\n",
      "\n",
      "Notes:\n",
      "[1] Standard Errors assume that the covariance matrix of the errors is correctly specified.\n",
      "[2] The condition number is large, 3.58e+05. This might indicate that there are\n",
      "strong multicollinearity or other numerical problems.\n"
     ]
    }
   ],
   "source": [
    "frames = {\n",
    "    \"gdp\": gdp,\n",
    "    # \"lit\": lit,\n",
    "    \"lif\": lif,\n",
    "    \"urb\": urb, \n",
    "    \"pop\": pop\n",
    "}\n",
    "X, y = clean_up(incomet, frames)\n",
    "print(X.shape, y.shape)\n",
    "\n",
    "est2 = sm.add_constant(X)\n",
    "est = sm.OLS(y, est2).fit()\n",
    "print(est.summary())"
   ]
  },
  {
   "cell_type": "code",
   "execution_count": 385,
   "metadata": {},
   "outputs": [
    {
     "data": {
      "image/png": "[encoded data removed]",
      "text/plain": [
       "<Figure size 640x480 with 1 Axes>"
      ]
     },
     "metadata": {},
     "output_type": "display_data"
    }
   ],
   "source": [
    "# Heteroskedasticity test\n",
    "\n",
    "# Plot the residual error terms against the y_pred\n",
    "y_pred = est.predict(est2)\n",
    "\n",
    "residuals = y - y_pred\n",
    "plt.scatter(y_pred, residuals)\n",
    "plt.xlabel(\"Predicted values\")\n",
    "plt.ylabel(\"Residuals\")\n",
    "plt.title(\"Residuals vs Fitted\")\n",
    "plt.show()"
   ]
  },
  {
   "cell_type": "code",
   "execution_count": 386,
   "metadata": {},
   "outputs": [
    {
     "name": "stdout",
     "output_type": "stream",
     "text": [
      "{'F statistic': np.float64(0.8104564763055512), 'p-value': np.float64(0.7729363170442245)}\n"
     ]
    }
   ],
   "source": [
    "# use the goldfeld-quandt test to check for heteroskedasticity\n",
    "from statsmodels.stats.diagnostic import het_goldfeldquandt\n",
    "name = ['F statistic', 'p-value']\n",
    "\n",
    "test = het_goldfeldquandt(y, est2)\n",
    "print(dict(zip(name, test)))\n"
   ]
  },
  {
   "cell_type": "code",
   "execution_count": 387,
   "metadata": {},
   "outputs": [
    {
     "name": "stdout",
     "output_type": "stream",
     "text": [
      "{'Lm value': np.float64(16.883786530784093), 'Lm p-value': np.float64(0.2624238378463546), 'F value': np.float64(1.2296209083740215), 'p-value': np.float64(0.2667322591284973)}\n"
     ]
    }
   ],
   "source": [
    "# use the generalised white test to check for heteroskedasticity\n",
    "from statsmodels.stats.diagnostic import het_white\n",
    "# name = ['F statistic', 'p-value']\n",
    "name = [\"Lm value\", \"Lm p-value\", \"F value\", \"p-value\"]\n",
    "\n",
    "test = het_white(est.resid, est2)\n",
    "print(dict(zip(name, test)))\n"
   ]
  },
  {
   "cell_type": "code",
   "execution_count": 388,
   "metadata": {},
   "outputs": [
    {
     "data": {
      "text/html": [
       "<div>\n",
       "<style scoped>\n",
       "    .dataframe tbody tr th:only-of-type {\n",
       "        vertical-align: middle;\n",
       "    }\n",
       "\n",
       "    .dataframe tbody tr th {\n",
       "        vertical-align: top;\n",
       "    }\n",
       "\n",
       "    .dataframe thead th {\n",
       "        text-align: right;\n",
       "    }\n",
       "</style>\n",
       "<table border=\"1\" class=\"dataframe\">\n",
       "  <thead>\n",
       "    <tr style=\"text-align: right;\">\n",
       "      <th></th>\n",
       "      <th>VIF Factor</th>\n",
       "    </tr>\n",
       "  </thead>\n",
       "  <tbody>\n",
       "    <tr>\n",
       "      <th>0</th>\n",
       "      <td>2.258271</td>\n",
       "    </tr>\n",
       "    <tr>\n",
       "      <th>1</th>\n",
       "      <td>16.691167</td>\n",
       "    </tr>\n",
       "    <tr>\n",
       "      <th>2</th>\n",
       "      <td>18.642489</td>\n",
       "    </tr>\n",
       "    <tr>\n",
       "      <th>3</th>\n",
       "      <td>1.481158</td>\n",
       "    </tr>\n",
       "  </tbody>\n",
       "</table>\n",
       "</div>"
      ],
      "text/plain": [
       "   VIF Factor\n",
       "0    2.258271\n",
       "1   16.691167\n",
       "2   18.642489\n",
       "3    1.481158"
      ]
     },
     "execution_count": 388,
     "metadata": {},
     "output_type": "execute_result"
    }
   ],
   "source": [
    "# Variance Inflation Factor\n",
    "\n",
    "# Calculate the VIF for each estimated coefficient using statsmodels package\n",
    "from statsmodels.stats.outliers_influence import variance_inflation_factor\n",
    "\n",
    "vif = pd.DataFrame()\n",
    "vif[\"VIF Factor\"] = [variance_inflation_factor(X.values, i) for i in range(X.shape[1])]\n",
    "vif"
   ]
  },
  {
   "cell_type": "code",
   "execution_count": 389,
   "metadata": {},
   "outputs": [
    {
     "name": "stdout",
     "output_type": "stream",
     "text": [
      "(114,)\n",
      "(114, 1) (114,)\n",
      "                            OLS Regression Results                            \n",
      "==============================================================================\n",
      "Dep. Variable:                   2018   R-squared:                       0.138\n",
      "Model:                            OLS   Adj. R-squared:                  0.131\n",
      "Method:                 Least Squares   F-statistic:                     17.99\n",
      "Date:                Wed, 06 Nov 2024   Prob (F-statistic):           4.60e-05\n",
      "Time:                        16:56:05   Log-Likelihood:                -333.32\n",
      "No. Observations:                 114   AIC:                             670.6\n",
      "Df Residuals:                     112   BIC:                             676.1\n",
      "Df Model:                           1                                         \n",
      "Covariance Type:            nonrobust                                         \n",
      "==============================================================================\n",
      "                 coef    std err          t      P>|t|      [0.025      0.975]\n",
      "------------------------------------------------------------------------------\n",
      "const         29.3938      0.540     54.448      0.000      28.324      30.463\n",
      "gdp        -7.984e-05   1.88e-05     -4.241      0.000      -0.000   -4.25e-05\n",
      "==============================================================================\n",
      "Omnibus:                        7.777   Durbin-Watson:                   1.768\n",
      "Prob(Omnibus):                  0.020   Jarque-Bera (JB):                7.707\n",
      "Skew:                           0.632   Prob(JB):                       0.0212\n",
      "Kurtosis:                       3.152   Cond. No.                     3.64e+04\n",
      "==============================================================================\n",
      "\n",
      "Notes:\n",
      "[1] Standard Errors assume that the covariance matrix of the errors is correctly specified.\n",
      "[2] The condition number is large, 3.64e+04. This might indicate that there are\n",
      "strong multicollinearity or other numerical problems.\n"
     ]
    }
   ],
   "source": [
    "frames = {\n",
    "    \"gdp\": gdp,\n",
    "    # \"lit\": lit,\n",
    "    # \"lif\": lif,\n",
    "    # \"urb\": urb, \n",
    "    # \"pop\": pop\n",
    "}\n",
    "X, y = clean_up(incomet, frames)\n",
    "print(X.shape, y.shape)\n",
    "\n",
    "est2 = sm.add_constant(X)\n",
    "est = sm.OLS(y, est2).fit()\n",
    "print(est.summary())"
   ]
  },
  {
   "cell_type": "code",
   "execution_count": 390,
   "metadata": {},
   "outputs": [
    {
     "name": "stdout",
     "output_type": "stream",
     "text": [
      "Index(['gdp', 'log_gdp', 'gdp_2'], dtype='object')\n",
      "                            OLS Regression Results                            \n",
      "==============================================================================\n",
      "Dep. Variable:                   2018   R-squared:                       0.183\n",
      "Model:                            OLS   Adj. R-squared:                  0.161\n",
      "Method:                 Least Squares   F-statistic:                     8.216\n",
      "Date:                Wed, 06 Nov 2024   Prob (F-statistic):           5.54e-05\n",
      "Time:                        16:56:05   Log-Likelihood:                -330.28\n",
      "No. Observations:                 114   AIC:                             668.6\n",
      "Df Residuals:                     110   BIC:                             679.5\n",
      "Df Model:                           3                                         \n",
      "Covariance Type:            nonrobust                                         \n",
      "==============================================================================\n",
      "                 coef    std err          t      P>|t|      [0.025      0.975]\n",
      "------------------------------------------------------------------------------\n",
      "const         32.2158      5.836      5.520      0.000      20.651      43.781\n",
      "gdp           -0.0002   9.89e-05     -1.660      0.100      -0.000    3.18e-05\n",
      "log_gdp       -0.2651      0.763     -0.348      0.729      -1.777       1.247\n",
      "gdp_2        1.26e-09   8.43e-10      1.493      0.138   -4.12e-10    2.93e-09\n",
      "==============================================================================\n",
      "Omnibus:                        9.428   Durbin-Watson:                   1.810\n",
      "Prob(Omnibus):                  0.009   Jarque-Bera (JB):                9.325\n",
      "Skew:                           0.667   Prob(JB):                      0.00944\n",
      "Kurtosis:                       3.430   Cond. No.                     2.90e+10\n",
      "==============================================================================\n",
      "\n",
      "Notes:\n",
      "[1] Standard Errors assume that the covariance matrix of the errors is correctly specified.\n",
      "[2] The condition number is large, 2.9e+10. This might indicate that there are\n",
      "strong multicollinearity or other numerical problems.\n"
     ]
    }
   ],
   "source": [
    "# Transform gdp to log gdp\n",
    "# X[\"gdp\"] = np.log(X[\"gdp\"]) \n",
    "\n",
    "X[\"log_gdp\"] = np.log(X[\"gdp\"])\n",
    "X[\"gdp_2\"] = X[\"gdp\"] ** 2\n",
    "# X[\"gdp_3\"] = X[\"gdp\"] ** 3\n",
    "\n",
    "# gdp = 0.19\n",
    "# gdp + log_gdp = 0.226\n",
    "# gdp + gdp_2 = 0.230\n",
    "# gdp + log_gdp + gdp_2 = 0.241\n",
    "# gdp + gdp_2 + gdp_3 = 0.094   \n",
    "\n",
    "print(X.columns)\n",
    "est2 = sm.add_constant(X)\n",
    "est = sm.OLS(y, est2).fit()\n",
    "print(est.summary())\n",
    "    "
   ]
  },
  {
   "cell_type": "markdown",
   "metadata": {},
   "source": [
    "# Income bottom 10%"
   ]
  },
  {
   "cell_type": "code",
   "execution_count": 391,
   "metadata": {},
   "outputs": [
    {
     "name": "stdout",
     "output_type": "stream",
     "text": [
      "(114,)\n",
      "(113, 4) (113,)\n",
      "                            OLS Regression Results                            \n",
      "==============================================================================\n",
      "Dep. Variable:                   2018   R-squared:                       0.137\n",
      "Model:                            OLS   Adj. R-squared:                  0.105\n",
      "Method:                 Least Squares   F-statistic:                     4.271\n",
      "Date:                Wed, 06 Nov 2024   Prob (F-statistic):            0.00302\n",
      "Time:                        16:56:05   Log-Likelihood:                -124.76\n",
      "No. Observations:                 113   AIC:                             259.5\n",
      "Df Residuals:                     108   BIC:                             273.1\n",
      "Df Model:                           4                                         \n",
      "Covariance Type:            nonrobust                                         \n",
      "==============================================================================\n",
      "                 coef    std err          t      P>|t|      [0.025      0.975]\n",
      "------------------------------------------------------------------------------\n",
      "const          3.0869      0.874      3.532      0.001       1.355       4.819\n",
      "gdp         1.085e-05   4.28e-06      2.532      0.013    2.35e-06    1.93e-05\n",
      "lif            0.0048      0.014      0.347      0.729      -0.023       0.032\n",
      "urb           -0.0150      0.005     -3.167      0.002      -0.024      -0.006\n",
      "pop            0.0005      0.000      1.559      0.122      -0.000       0.001\n",
      "==============================================================================\n",
      "Omnibus:                        1.627   Durbin-Watson:                   1.895\n",
      "Prob(Omnibus):                  0.443   Jarque-Bera (JB):                1.502\n",
      "Skew:                           0.280   Prob(JB):                        0.472\n",
      "Kurtosis:                       2.933   Cond. No.                     3.58e+05\n",
      "==============================================================================\n",
      "\n",
      "Notes:\n",
      "[1] Standard Errors assume that the covariance matrix of the errors is correctly specified.\n",
      "[2] The condition number is large, 3.58e+05. This might indicate that there are\n",
      "strong multicollinearity or other numerical problems.\n"
     ]
    }
   ],
   "source": [
    "frames = {\n",
    "    \"gdp\": gdp,\n",
    "    # \"lit\": lit,\n",
    "    \"lif\": lif,\n",
    "    \"urb\": urb,\n",
    "    \"pop\": pop\n",
    "}\n",
    "X, y = clean_up(incomeb, frames)\n",
    "print(X.shape, y.shape)\n",
    "\n",
    "est2 = sm.add_constant(X)\n",
    "est = sm.OLS(y, est2).fit()\n",
    "print(est.summary())"
   ]
  },
  {
   "cell_type": "code",
   "execution_count": 392,
   "metadata": {},
   "outputs": [
    {
     "data": {
      "image/png": "[encoded data removed]",
      "text/plain": [
       "<Figure size 640x480 with 1 Axes>"
      ]
     },
     "metadata": {},
     "output_type": "display_data"
    }
   ],
   "source": [
    "# Heteroscedasticity Test\n",
    "\n",
    "# Plot the residual error terms against the y_pred\n",
    "y_pred = est.predict(est2)\n",
    "\n",
    "residuals = y - y_pred\n",
    "plt.scatter(y_pred, residuals)\n",
    "plt.xlabel(\"Predicted values\")\n",
    "plt.ylabel(\"Residuals\")\n",
    "plt.title(\"Residuals vs Fitted\")\n",
    "plt.show()\n"
   ]
  },
  {
   "cell_type": "code",
   "execution_count": 393,
   "metadata": {},
   "outputs": [
    {
     "name": "stdout",
     "output_type": "stream",
     "text": [
      "{'F statistic': np.float64(0.7616154231716267), 'p-value': np.float64(0.8338554274846148)}\n"
     ]
    }
   ],
   "source": [
    "# use the goldfeld-quandt test to check for heteroskedasticity\n",
    "from statsmodels.stats.diagnostic import het_goldfeldquandt\n",
    "\n",
    "test_result = het_goldfeldquandt(y, est2)\n",
    "labels = ['F statistic', 'p-value']\n",
    "print(dict(zip(labels, test_result)))\n"
   ]
  },
  {
   "cell_type": "code",
   "execution_count": 394,
   "metadata": {},
   "outputs": [
    {
     "name": "stdout",
     "output_type": "stream",
     "text": [
      "{'Lm value': np.float64(10.02280660916113), 'Lm p-value': np.float64(0.760514145573167), 'F value': np.float64(0.6813124727321375), 'p-value': np.float64(0.7874334869827329)}\n"
     ]
    }
   ],
   "source": [
    "# use the generalised white test to check for heteroskedasticity\n",
    "from statsmodels.stats.diagnostic import het_white\n",
    "# name = ['F statistic', 'p-value']\n",
    "name = [\"Lm value\", \"Lm p-value\", \"F value\", \"p-value\"]\n",
    "\n",
    "test = het_white(est.resid, est2)\n",
    "print(dict(zip(name, test)))\n"
   ]
  },
  {
   "cell_type": "code",
   "execution_count": 395,
   "metadata": {},
   "outputs": [
    {
     "data": {
      "text/html": [
       "<div>\n",
       "<style scoped>\n",
       "    .dataframe tbody tr th:only-of-type {\n",
       "        vertical-align: middle;\n",
       "    }\n",
       "\n",
       "    .dataframe tbody tr th {\n",
       "        vertical-align: top;\n",
       "    }\n",
       "\n",
       "    .dataframe thead th {\n",
       "        text-align: right;\n",
       "    }\n",
       "</style>\n",
       "<table border=\"1\" class=\"dataframe\">\n",
       "  <thead>\n",
       "    <tr style=\"text-align: right;\">\n",
       "      <th></th>\n",
       "      <th>VIF Factor</th>\n",
       "    </tr>\n",
       "  </thead>\n",
       "  <tbody>\n",
       "    <tr>\n",
       "      <th>0</th>\n",
       "      <td>2.258271</td>\n",
       "    </tr>\n",
       "    <tr>\n",
       "      <th>1</th>\n",
       "      <td>16.691167</td>\n",
       "    </tr>\n",
       "    <tr>\n",
       "      <th>2</th>\n",
       "      <td>18.642489</td>\n",
       "    </tr>\n",
       "    <tr>\n",
       "      <th>3</th>\n",
       "      <td>1.481158</td>\n",
       "    </tr>\n",
       "  </tbody>\n",
       "</table>\n",
       "</div>"
      ],
      "text/plain": [
       "   VIF Factor\n",
       "0    2.258271\n",
       "1   16.691167\n",
       "2   18.642489\n",
       "3    1.481158"
      ]
     },
     "execution_count": 395,
     "metadata": {},
     "output_type": "execute_result"
    }
   ],
   "source": [
    "# Variance Inflation Factor\n",
    "\n",
    "# Calculate the VIF for each estimated coefficient using statsmodels package\n",
    "from statsmodels.stats.outliers_influence import variance_inflation_factor\n",
    "\n",
    "vif = pd.DataFrame()\n",
    "vif[\"VIF Factor\"] = [variance_inflation_factor(X.values, i) for i in range(X.shape[1])]\n",
    "vif"
   ]
  },
  {
   "cell_type": "code",
   "execution_count": 396,
   "metadata": {},
   "outputs": [
    {
     "name": "stdout",
     "output_type": "stream",
     "text": [
      "(114,)\n",
      "(113, 2) (113,)\n",
      "                            OLS Regression Results                            \n",
      "==============================================================================\n",
      "Dep. Variable:                   2018   R-squared:                       0.044\n",
      "Model:                            OLS   Adj. R-squared:                  0.026\n",
      "Method:                 Least Squares   F-statistic:                     2.514\n",
      "Date:                Wed, 06 Nov 2024   Prob (F-statistic):             0.0856\n",
      "Time:                        16:56:05   Log-Likelihood:                -130.53\n",
      "No. Observations:                 113   AIC:                             267.1\n",
      "Df Residuals:                     110   BIC:                             275.2\n",
      "Df Model:                           2                                         \n",
      "Covariance Type:            nonrobust                                         \n",
      "==============================================================================\n",
      "                 coef    std err          t      P>|t|      [0.025      0.975]\n",
      "------------------------------------------------------------------------------\n",
      "const          2.6199      0.102     25.562      0.000       2.417       2.823\n",
      "gdp         3.872e-06   3.24e-06      1.194      0.235   -2.55e-06    1.03e-05\n",
      "pop            0.0006      0.000      1.788      0.076   -6.25e-05       0.001\n",
      "==============================================================================\n",
      "Omnibus:                        0.767   Durbin-Watson:                   1.926\n",
      "Prob(Omnibus):                  0.682   Jarque-Bera (JB):                0.888\n",
      "Skew:                           0.137   Prob(JB):                        0.642\n",
      "Kurtosis:                       2.664   Cond. No.                     4.03e+04\n",
      "==============================================================================\n",
      "\n",
      "Notes:\n",
      "[1] Standard Errors assume that the covariance matrix of the errors is correctly specified.\n",
      "[2] The condition number is large, 4.03e+04. This might indicate that there are\n",
      "strong multicollinearity or other numerical problems.\n"
     ]
    }
   ],
   "source": [
    "frames = {\n",
    "    \"gdp\": gdp,\n",
    "    # \"lit\": lit,\n",
    "    # \"lif\": lif,\n",
    "    # \"urb\": urb,\n",
    "    \"pop\": pop\n",
    "}\n",
    "X, y = clean_up(incomeb, frames)\n",
    "print(X.shape, y.shape)\n",
    "\n",
    "est2 = sm.add_constant(X)\n",
    "est = sm.OLS(y, est2).fit()\n",
    "print(est.summary())"
   ]
  },
  {
   "cell_type": "markdown",
   "metadata": {},
   "source": [
    "Drastic decrease in explanation if urb is removed."
   ]
  },
  {
   "cell_type": "code",
   "execution_count": 397,
   "metadata": {},
   "outputs": [
    {
     "name": "stdout",
     "output_type": "stream",
     "text": [
      "Index(['gdp', 'pop', 'log_gdp', 'gdp_2'], dtype='object')\n",
      "                            OLS Regression Results                            \n",
      "==============================================================================\n",
      "Dep. Variable:                   2018   R-squared:                       0.104\n",
      "Model:                            OLS   Adj. R-squared:                  0.071\n",
      "Method:                 Least Squares   F-statistic:                     3.130\n",
      "Date:                Wed, 06 Nov 2024   Prob (F-statistic):             0.0177\n",
      "Time:                        16:56:05   Log-Likelihood:                -126.86\n",
      "No. Observations:                 113   AIC:                             263.7\n",
      "Df Residuals:                     108   BIC:                             277.3\n",
      "Df Model:                           4                                         \n",
      "Covariance Type:            nonrobust                                         \n",
      "==============================================================================\n",
      "                 coef    std err          t      P>|t|      [0.025      0.975]\n",
      "------------------------------------------------------------------------------\n",
      "const          5.2843      0.996      5.308      0.000       3.311       7.258\n",
      "gdp          4.05e-05   1.69e-05      2.397      0.018    7.01e-06     7.4e-05\n",
      "pop            0.0006      0.000      2.029      0.045    1.49e-05       0.001\n",
      "log_gdp       -0.3495      0.130     -2.679      0.009      -0.608      -0.091\n",
      "gdp_2      -2.403e-10   1.44e-10     -1.668      0.098   -5.26e-10    4.52e-11\n",
      "==============================================================================\n",
      "Omnibus:                        1.557   Durbin-Watson:                   1.964\n",
      "Prob(Omnibus):                  0.459   Jarque-Bera (JB):                1.299\n",
      "Skew:                           0.262   Prob(JB):                        0.522\n",
      "Kurtosis:                       3.035   Cond. No.                     2.90e+10\n",
      "==============================================================================\n",
      "\n",
      "Notes:\n",
      "[1] Standard Errors assume that the covariance matrix of the errors is correctly specified.\n",
      "[2] The condition number is large, 2.9e+10. This might indicate that there are\n",
      "strong multicollinearity or other numerical problems.\n"
     ]
    }
   ],
   "source": [
    "# Transform gdp to log gdp\n",
    "# X[\"gdp\"] = np.log(X[\"gdp\"]) \n",
    "\n",
    "X[\"log_gdp\"] = np.log(X[\"gdp\"])\n",
    "X[\"gdp_2\"] = X[\"gdp\"] ** 2\n",
    "# X[\"gdp_3\"] = X[\"gdp\"] ** 3\n",
    "\n",
    "# gdp = 0.137\n",
    "# gdp + log gdp = 0.139\n",
    "# gdp + gdp_2 = 0.147\n",
    "# gdp + log gdp + gdp_2 = 0.160\n",
    "# gdp + gdp_2 + gdp_3 = 0.037\n",
    "\n",
    "\n",
    "print(X.columns)\n",
    "est2 = sm.add_constant(X)\n",
    "est = sm.OLS(y, est2).fit()\n",
    "print(est.summary())\n",
    "    "
   ]
  },
  {
   "cell_type": "markdown",
   "metadata": {},
   "source": [
    "# Discussion"
   ]
  },
  {
   "cell_type": "markdown",
   "metadata": {},
   "source": []
  }
 ],
 "metadata": {
  "kernelspec": {
   "display_name": "Python 3 (ipykernel)",
   "language": "python",
   "name": "python3"
  }
 },
 "nbformat": 4,
 "nbformat_minor": 2
}
